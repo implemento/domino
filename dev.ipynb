{
 "cells": [
  {
   "cell_type": "code",
   "execution_count": 1,
   "metadata": {
    "collapsed": true
   },
   "outputs": [],
   "source": [
    "from docker import Client\n",
    "cli = Client(base_url='unix://var/run/docker.sock')"
   ]
  },
  {
   "cell_type": "code",
   "execution_count": 10,
   "metadata": {
    "collapsed": false
   },
   "outputs": [
    {
     "data": {
      "text/plain": [
       "[{'Command': 'python manage.py runserver 0.0.0.0:8000',\n",
       "  'Created': 1477481951,\n",
       "  'HostConfig': {'NetworkMode': 'bridge'},\n",
       "  'Id': 'cd9bfb7ef56e8874bcb8c6373e66ff14214d12f1f50d585a0bb4d7fbf6f18671',\n",
       "  'Image': 'domino_as',\n",
       "  'ImageID': 'sha256:709b0eff0967d2c100e26e5da4583f1f062ea89e9304e4668965298ecaf98db7',\n",
       "  'Labels': {'com.docker.compose.config-hash': 'fed88cb8a2a599faf7b9014e9fde4e34b70804cde393bb7e8ca59a87d1320ba4',\n",
       "   'com.docker.compose.container-number': '1',\n",
       "   'com.docker.compose.oneoff': 'False',\n",
       "   'com.docker.compose.project': 'domino',\n",
       "   'com.docker.compose.service': 'as',\n",
       "   'com.docker.compose.version': '1.9.0dev'},\n",
       "  'Mounts': [{'Destination': '/var/run/docker.sock',\n",
       "    'Mode': 'rw',\n",
       "    'Propagation': 'rprivate',\n",
       "    'RW': True,\n",
       "    'Source': '/var/run/docker.sock'},\n",
       "   {'Destination': '/config',\n",
       "    'Driver': 'local',\n",
       "    'Mode': 'rw',\n",
       "    'Name': 'domino_config',\n",
       "    'Propagation': 'rprivate',\n",
       "    'RW': True,\n",
       "    'Source': '/var/lib/docker/volumes/domino_config/_data'},\n",
       "   {'Destination': '/opt/anaconda',\n",
       "    'Mode': 'rw',\n",
       "    'Propagation': 'rprivate',\n",
       "    'RW': True,\n",
       "    'Source': '/home/kristian/.config/sublime-text-3/Packages/Anaconda'},\n",
       "   {'Destination': '/usr/src/app',\n",
       "    'Mode': 'rw',\n",
       "    'Propagation': 'rprivate',\n",
       "    'RW': True,\n",
       "    'Source': '/home/kristian/dev/domino/app'}],\n",
       "  'Names': ['/domino_as_1'],\n",
       "  'NetworkSettings': {'Networks': {'bridge': {'Aliases': None,\n",
       "     'EndpointID': '7ba27643e6bfd5d1e51124d4bcf681d0bfe3bf861ede5255eff91138e961fa96',\n",
       "     'Gateway': '10.241.145.1',\n",
       "     'GlobalIPv6Address': '',\n",
       "     'GlobalIPv6PrefixLen': 0,\n",
       "     'IPAMConfig': None,\n",
       "     'IPAddress': '10.241.145.5',\n",
       "     'IPPrefixLen': 24,\n",
       "     'IPv6Gateway': '',\n",
       "     'Links': None,\n",
       "     'MacAddress': '02:42:0a:f1:91:05',\n",
       "     'NetworkID': '8c6038f1c3cb735f4fd06818de2569741ae782d8d2671fbd9ff049cf31f73519'}}},\n",
       "  'Ports': [{'IP': '0.0.0.0',\n",
       "    'PrivatePort': 19360,\n",
       "    'PublicPort': 19360,\n",
       "    'Type': 'tcp'},\n",
       "   {'IP': '0.0.0.0', 'PrivatePort': 8000, 'PublicPort': 80, 'Type': 'tcp'}],\n",
       "  'State': 'running',\n",
       "  'Status': 'Up 28 minutes'},\n",
       " {'Command': '/docker-entrypoint.sh postgres',\n",
       "  'Created': 1477481946,\n",
       "  'HostConfig': {'NetworkMode': 'bridge'},\n",
       "  'Id': 'dad50396073aff70448ce754f49ea06a35c7d93421b3fc18df00419e4056895a',\n",
       "  'Image': 'postgres:9.6',\n",
       "  'ImageID': 'sha256:e0656cea22fe36eea504c06f59f0b8235ecbe582d0149c437426ee97862205f9',\n",
       "  'Labels': {'com.docker.compose.config-hash': 'bbd2380d430e6dcb17e7a23d6f59652a3180ba086eda9f7bad61676c77319bac',\n",
       "   'com.docker.compose.container-number': '1',\n",
       "   'com.docker.compose.oneoff': 'False',\n",
       "   'com.docker.compose.project': 'domino',\n",
       "   'com.docker.compose.service': 'db',\n",
       "   'com.docker.compose.version': '1.9.0dev'},\n",
       "  'Mounts': [{'Destination': '/var/lib/postgresql/data',\n",
       "    'Driver': 'local',\n",
       "    'Mode': '',\n",
       "    'Name': '5a56c2459427d21a8d7248cb0fc18166461fd4ec211606503ab701c40cbbce79',\n",
       "    'Propagation': '',\n",
       "    'RW': True,\n",
       "    'Source': '/var/lib/docker/volumes/5a56c2459427d21a8d7248cb0fc18166461fd4ec211606503ab701c40cbbce79/_data'}],\n",
       "  'Names': ['/domino_db_1',\n",
       "   '/domino_as_1/db',\n",
       "   '/domino_as_1/db_1',\n",
       "   '/domino_as_1/domino_db_1'],\n",
       "  'NetworkSettings': {'Networks': {'bridge': {'Aliases': None,\n",
       "     'EndpointID': '6aeee7d38feb4bae6a0c277cbc87cb24576bc54c803dbaf40d99da7fcc7f0134',\n",
       "     'Gateway': '10.241.145.1',\n",
       "     'GlobalIPv6Address': '',\n",
       "     'GlobalIPv6PrefixLen': 0,\n",
       "     'IPAMConfig': None,\n",
       "     'IPAddress': '10.241.145.2',\n",
       "     'IPPrefixLen': 24,\n",
       "     'IPv6Gateway': '',\n",
       "     'Links': None,\n",
       "     'MacAddress': '02:42:0a:f1:91:02',\n",
       "     'NetworkID': '8c6038f1c3cb735f4fd06818de2569741ae782d8d2671fbd9ff049cf31f73519'}}},\n",
       "  'Ports': [{'IP': '0.0.0.0',\n",
       "    'PrivatePort': 5432,\n",
       "    'PublicPort': 5432,\n",
       "    'Type': 'tcp'}],\n",
       "  'State': 'running',\n",
       "  'Status': 'Up 28 minutes'}]"
      ]
     },
     "execution_count": 10,
     "metadata": {},
     "output_type": "execute_result"
    }
   ],
   "source": [
    "cli.containers()"
   ]
  },
  {
   "cell_type": "code",
   "execution_count": 17,
   "metadata": {
    "collapsed": false
   },
   "outputs": [
    {
     "name": "stdout",
     "output_type": "stream",
     "text": [
      "<generator object _stream_helper at 0x7fab2c0b4e10>\n"
     ]
    }
   ],
   "source": [
    "cli.events()"
   ]
  },
  {
   "cell_type": "code",
   "execution_count": null,
   "metadata": {
    "collapsed": true
   },
   "outputs": [],
   "source": [
    "container = cli.create_container(image='xtermjs', detach=True,\n",
    "                                 host_config=cli.create_host_config(port_bindings={3000: 3000}))"
   ]
  },
  {
   "cell_type": "code",
   "execution_count": null,
   "metadata": {
    "collapsed": true
   },
   "outputs": [],
   "source": [
    "cli.start(container=container.get()"
   ]
  },
  {
   "cell_type": "code",
   "execution_count": 2,
   "metadata": {
    "collapsed": false
   },
   "outputs": [
    {
     "data": {
      "text/plain": [
       "8"
      ]
     },
     "execution_count": 2,
     "metadata": {},
     "output_type": "execute_result"
    }
   ],
   "source": [
    "import tempfile\n",
    "\n",
    "fp = tempfile.TemporaryFile()\n",
    "fp.write(b\"etfseges\")"
   ]
  },
  {
   "cell_type": "code",
   "execution_count": 4,
   "metadata": {
    "collapsed": false
   },
   "outputs": [
    {
     "data": {
      "text/plain": [
       "51"
      ]
     },
     "execution_count": 4,
     "metadata": {},
     "output_type": "execute_result"
    }
   ],
   "source": [
    "fp.name"
   ]
  },
  {
   "cell_type": "code",
   "execution_count": null,
   "metadata": {
    "collapsed": true
   },
   "outputs": [],
   "source": []
  }
 ],
 "metadata": {
  "kernelspec": {
   "display_name": "Python 3",
   "language": "python",
   "name": "python3"
  },
  "language_info": {
   "codemirror_mode": {
    "name": "ipython",
    "version": 3
   },
   "file_extension": ".py",
   "mimetype": "text/x-python",
   "name": "python",
   "nbconvert_exporter": "python",
   "pygments_lexer": "ipython3",
   "version": "3.4.0"
  }
 },
 "nbformat": 4,
 "nbformat_minor": 1
}
